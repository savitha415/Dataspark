{
 "cells": [
  {
   "cell_type": "code",
   "execution_count": 69,
   "metadata": {},
   "outputs": [],
   "source": [
    "import pandas as pd\n",
    "import mysql.connector\n",
    "from mysql.connector import Error"
   ]
  },
  {
   "cell_type": "code",
   "execution_count": 142,
   "metadata": {},
   "outputs": [],
   "source": [
    "def create_connection():\n",
    "    return mysql.connector.connect(\n",
    "        host=\"localhost\",\n",
    "        user=\"root\",\n",
    "        password=\"Savi@415\",\n",
    "        database=\"dataspark\"\n",
    "    )\n"
   ]
  },
  {
   "cell_type": "code",
   "execution_count": 87,
   "metadata": {},
   "outputs": [],
   "source": [
    "# pushing cleaned_customers to sql\n",
    "dfc=pd.read_csv(\"cleaned_customers.csv\")\n",
    "\n",
    "# converting to sql data types\n",
    "dfc['Unnamed: 0'] = dfc['Unnamed: 0'].astype('int')\n",
    "dfc['CustomerKey'] = dfc['CustomerKey'].astype('int')\n",
    "dfc['Age'] = dfc['Age'].astype('int')\n",
    "dfc['Birthday'] = pd.to_datetime(dfc['Birthday'], errors='coerce')"
   ]
  },
  {
   "cell_type": "code",
   "execution_count": 82,
   "metadata": {},
   "outputs": [
    {
     "data": {
      "text/html": [
       "<div>\n",
       "<style scoped>\n",
       "    .dataframe tbody tr th:only-of-type {\n",
       "        vertical-align: middle;\n",
       "    }\n",
       "\n",
       "    .dataframe tbody tr th {\n",
       "        vertical-align: top;\n",
       "    }\n",
       "\n",
       "    .dataframe thead th {\n",
       "        text-align: right;\n",
       "    }\n",
       "</style>\n",
       "<table border=\"1\" class=\"dataframe\">\n",
       "  <thead>\n",
       "    <tr style=\"text-align: right;\">\n",
       "      <th></th>\n",
       "      <th>Unnamed: 0</th>\n",
       "      <th>CustomerKey</th>\n",
       "      <th>Gender</th>\n",
       "      <th>Name</th>\n",
       "      <th>City</th>\n",
       "      <th>State Code</th>\n",
       "      <th>State</th>\n",
       "      <th>Zip Code</th>\n",
       "      <th>Country</th>\n",
       "      <th>Continent</th>\n",
       "      <th>Birthday</th>\n",
       "      <th>Age</th>\n",
       "    </tr>\n",
       "  </thead>\n",
       "  <tbody>\n",
       "    <tr>\n",
       "      <th>0</th>\n",
       "      <td>0</td>\n",
       "      <td>301</td>\n",
       "      <td>Female</td>\n",
       "      <td>Lilly Harding</td>\n",
       "      <td>WANDEARAH EAST</td>\n",
       "      <td>SA</td>\n",
       "      <td>South Australia</td>\n",
       "      <td>5523</td>\n",
       "      <td>Australia</td>\n",
       "      <td>Australia</td>\n",
       "      <td>1939-07-03</td>\n",
       "      <td>85</td>\n",
       "    </tr>\n",
       "    <tr>\n",
       "      <th>1</th>\n",
       "      <td>1</td>\n",
       "      <td>325</td>\n",
       "      <td>Female</td>\n",
       "      <td>Madison Hull</td>\n",
       "      <td>MOUNT BUDD</td>\n",
       "      <td>WA</td>\n",
       "      <td>Western Australia</td>\n",
       "      <td>6522</td>\n",
       "      <td>Australia</td>\n",
       "      <td>Australia</td>\n",
       "      <td>1979-09-27</td>\n",
       "      <td>45</td>\n",
       "    </tr>\n",
       "    <tr>\n",
       "      <th>2</th>\n",
       "      <td>2</td>\n",
       "      <td>554</td>\n",
       "      <td>Female</td>\n",
       "      <td>Claire Ferres</td>\n",
       "      <td>WINJALLOK</td>\n",
       "      <td>VIC</td>\n",
       "      <td>Victoria</td>\n",
       "      <td>3380</td>\n",
       "      <td>Australia</td>\n",
       "      <td>Australia</td>\n",
       "      <td>1947-05-26</td>\n",
       "      <td>77</td>\n",
       "    </tr>\n",
       "    <tr>\n",
       "      <th>3</th>\n",
       "      <td>3</td>\n",
       "      <td>786</td>\n",
       "      <td>Male</td>\n",
       "      <td>Jai Poltpalingada</td>\n",
       "      <td>MIDDLE RIVER</td>\n",
       "      <td>SA</td>\n",
       "      <td>South Australia</td>\n",
       "      <td>5223</td>\n",
       "      <td>Australia</td>\n",
       "      <td>Australia</td>\n",
       "      <td>1957-09-17</td>\n",
       "      <td>67</td>\n",
       "    </tr>\n",
       "    <tr>\n",
       "      <th>4</th>\n",
       "      <td>4</td>\n",
       "      <td>1042</td>\n",
       "      <td>Male</td>\n",
       "      <td>Aidan Pankhurst</td>\n",
       "      <td>TAWONGA SOUTH</td>\n",
       "      <td>VIC</td>\n",
       "      <td>Victoria</td>\n",
       "      <td>3698</td>\n",
       "      <td>Australia</td>\n",
       "      <td>Australia</td>\n",
       "      <td>1965-11-19</td>\n",
       "      <td>59</td>\n",
       "    </tr>\n",
       "  </tbody>\n",
       "</table>\n",
       "</div>"
      ],
      "text/plain": [
       "   Unnamed: 0  CustomerKey  Gender               Name            City  \\\n",
       "0           0          301  Female      Lilly Harding  WANDEARAH EAST   \n",
       "1           1          325  Female       Madison Hull      MOUNT BUDD   \n",
       "2           2          554  Female      Claire Ferres       WINJALLOK   \n",
       "3           3          786    Male  Jai Poltpalingada    MIDDLE RIVER   \n",
       "4           4         1042    Male    Aidan Pankhurst   TAWONGA SOUTH   \n",
       "\n",
       "  State Code              State Zip Code    Country  Continent   Birthday  Age  \n",
       "0         SA    South Australia     5523  Australia  Australia 1939-07-03   85  \n",
       "1         WA  Western Australia     6522  Australia  Australia 1979-09-27   45  \n",
       "2        VIC           Victoria     3380  Australia  Australia 1947-05-26   77  \n",
       "3         SA    South Australia     5223  Australia  Australia 1957-09-17   67  \n",
       "4        VIC           Victoria     3698  Australia  Australia 1965-11-19   59  "
      ]
     },
     "execution_count": 82,
     "metadata": {},
     "output_type": "execute_result"
    }
   ],
   "source": [
    "dfc.head()"
   ]
  },
  {
   "cell_type": "code",
   "execution_count": 94,
   "metadata": {},
   "outputs": [
    {
     "name": "stdout",
     "output_type": "stream",
     "text": [
      "<class 'pandas.core.frame.DataFrame'>\n",
      "RangeIndex: 15266 entries, 0 to 15265\n",
      "Data columns (total 12 columns):\n",
      " #   Column       Non-Null Count  Dtype         \n",
      "---  ------       --------------  -----         \n",
      " 0   Unnamed: 0   15266 non-null  int32         \n",
      " 1   CustomerKey  15266 non-null  int32         \n",
      " 2   Gender       15266 non-null  object        \n",
      " 3   Name         15266 non-null  object        \n",
      " 4   City         15266 non-null  object        \n",
      " 5   State Code   15266 non-null  object        \n",
      " 6   State        15266 non-null  object        \n",
      " 7   Zip Code     15266 non-null  object        \n",
      " 8   Country      15266 non-null  object        \n",
      " 9   Continent    15266 non-null  object        \n",
      " 10  Birthday     15266 non-null  datetime64[ns]\n",
      " 11  Age          15266 non-null  int32         \n",
      "dtypes: datetime64[ns](1), int32(3), object(8)\n",
      "memory usage: 1.2+ MB\n"
     ]
    }
   ],
   "source": [
    "dfc.info()"
   ]
  },
  {
   "cell_type": "code",
   "execution_count": 76,
   "metadata": {},
   "outputs": [],
   "source": [
    "insert_query = \"\"\"\n",
    "INSERT INTO Customers (CustomerKey, Gender, Name, City, State_Code, State, Zip_Code, Country, Continent, Birthday, Age)\n",
    "VALUES (%s, %s, %s, %s, %s, %s, %s, %s, %s, %s, %s)\n",
    "\"\"\""
   ]
  },
  {
   "cell_type": "code",
   "execution_count": 91,
   "metadata": {},
   "outputs": [],
   "source": [
    "data_tuples = [tuple(row) for row in dfc.to_numpy()]\n"
   ]
  },
  {
   "cell_type": "code",
   "execution_count": 120,
   "metadata": {},
   "outputs": [
    {
     "name": "stdout",
     "output_type": "stream",
     "text": [
      "Values inserted successfully.\n"
     ]
    }
   ],
   "source": [
    "try:\n",
    "    cursor.executemany(insert_query, data_tuples)\n",
    "    connection.commit()\n",
    "    print(\"Values inserted successfully.\")\n",
    "except Error as e:\n",
    "    print(f\"Error: {e}\")\n",
    "finally:\n",
    "    cursor.close()\n",
    "    connection.close()"
   ]
  },
  {
   "cell_type": "code",
   "execution_count": 103,
   "metadata": {},
   "outputs": [
    {
     "name": "stdout",
     "output_type": "stream",
     "text": [
      "<class 'pandas.core.frame.DataFrame'>\n",
      "RangeIndex: 62884 entries, 0 to 62883\n",
      "Data columns (total 10 columns):\n",
      " #   Column         Non-Null Count  Dtype \n",
      "---  ------         --------------  ----- \n",
      " 0   Unnamed: 0     62884 non-null  int64 \n",
      " 1   Order Number   62884 non-null  int64 \n",
      " 2   Line Item      62884 non-null  int64 \n",
      " 3   Order Date     62884 non-null  object\n",
      " 4   Delivery Date  62884 non-null  object\n",
      " 5   CustomerKey    62884 non-null  int64 \n",
      " 6   StoreKey       62884 non-null  int64 \n",
      " 7   ProductKey     62884 non-null  int64 \n",
      " 8   Quantity       62884 non-null  int64 \n",
      " 9   Currency Code  62884 non-null  object\n",
      "dtypes: int64(7), object(3)\n",
      "memory usage: 4.8+ MB\n"
     ]
    }
   ],
   "source": [
    "# Cleaned sales\n",
    "\n",
    "dfs=pd.read_csv(\"cleaned_sales.csv\")\n",
    "\n",
    "dfs.info()"
   ]
  },
  {
   "cell_type": "code",
   "execution_count": 104,
   "metadata": {},
   "outputs": [],
   "source": [
    "# Converting to sql datatype\n",
    "\n",
    "dfs['Unnamed: 0'] = dfs['Unnamed: 0'].astype(int)\n",
    "dfs['Order Number'] = dfs['Order Number'].astype(int)\n",
    "dfs['Line Item'] = dfs['Line Item'].astype(int)\n",
    "dfs['CustomerKey'] = dfs['CustomerKey'].astype(int)\n",
    "dfs['StoreKey'] = dfs['StoreKey'].astype(int)\n",
    "dfs['ProductKey'] = dfs['ProductKey'].astype(int)\n",
    "dfs['Quantity'] = dfs['Quantity'].astype(int)"
   ]
  },
  {
   "cell_type": "code",
   "execution_count": 105,
   "metadata": {},
   "outputs": [
    {
     "name": "stdout",
     "output_type": "stream",
     "text": [
      "<class 'pandas.core.frame.DataFrame'>\n",
      "RangeIndex: 62884 entries, 0 to 62883\n",
      "Data columns (total 10 columns):\n",
      " #   Column         Non-Null Count  Dtype \n",
      "---  ------         --------------  ----- \n",
      " 0   Unnamed: 0     62884 non-null  int32 \n",
      " 1   Order Number   62884 non-null  int32 \n",
      " 2   Line Item      62884 non-null  int32 \n",
      " 3   Order Date     62884 non-null  object\n",
      " 4   Delivery Date  62884 non-null  object\n",
      " 5   CustomerKey    62884 non-null  int32 \n",
      " 6   StoreKey       62884 non-null  int32 \n",
      " 7   ProductKey     62884 non-null  int32 \n",
      " 8   Quantity       62884 non-null  int32 \n",
      " 9   Currency Code  62884 non-null  object\n",
      "dtypes: int32(7), object(3)\n",
      "memory usage: 3.1+ MB\n"
     ]
    }
   ],
   "source": [
    "dfs.info()"
   ]
  },
  {
   "cell_type": "code",
   "execution_count": 114,
   "metadata": {},
   "outputs": [],
   "source": [
    "insert_query = \"\"\"\n",
    "    INSERT INTO Sales (Unnamed_0, Order_Number, Line_Item, Order_Date, Delivery_Date, CustomerKey, StoreKey, ProductKey, Quantity, Currency_Code)\n",
    "    VALUES (%s, %s, %s, %s, %s, %s, %s, %s, %s, %s)\n",
    "\"\"\""
   ]
  },
  {
   "cell_type": "code",
   "execution_count": 108,
   "metadata": {},
   "outputs": [],
   "source": [
    "data_tuples = [tuple(row) for row in dfs.to_numpy()]"
   ]
  },
  {
   "cell_type": "code",
   "execution_count": 117,
   "metadata": {},
   "outputs": [
    {
     "name": "stdout",
     "output_type": "stream",
     "text": [
      "Values inserted successfully.\n"
     ]
    }
   ],
   "source": [
    "try:\n",
    "    cursor.executemany(insert_query, data_tuples)\n",
    "    connection.commit()\n",
    "    print(\"Values inserted successfully.\")\n",
    "except Error as e:\n",
    "    print(f\"Error: {e}\")\n",
    "finally:\n",
    "    cursor.close()\n",
    "    connection.close()"
   ]
  },
  {
   "cell_type": "code",
   "execution_count": 164,
   "metadata": {},
   "outputs": [
    {
     "name": "stdout",
     "output_type": "stream",
     "text": [
      "<class 'pandas.core.frame.DataFrame'>\n",
      "RangeIndex: 2517 entries, 0 to 2516\n",
      "Data columns (total 11 columns):\n",
      " #   Column          Non-Null Count  Dtype  \n",
      "---  ------          --------------  -----  \n",
      " 0   Unnamed: 0      2517 non-null   int64  \n",
      " 1   ProductKey      2517 non-null   int64  \n",
      " 2   Product Name    2517 non-null   object \n",
      " 3   Brand           2517 non-null   object \n",
      " 4   Color           2517 non-null   object \n",
      " 5   Unit Cost USD   2517 non-null   float64\n",
      " 6   Unit Price USD  2517 non-null   float64\n",
      " 7   SubcategoryKey  2517 non-null   int64  \n",
      " 8   Subcategory     2517 non-null   object \n",
      " 9   CategoryKey     2517 non-null   int64  \n",
      " 10  Category        2517 non-null   object \n",
      "dtypes: float64(2), int64(4), object(5)\n",
      "memory usage: 216.4+ KB\n"
     ]
    }
   ],
   "source": [
    "# Cleaned products\n",
    "\n",
    "dfp=pd.read_csv(\"cleaned_products.csv\")\n",
    "\n",
    "dfp.info()"
   ]
  },
  {
   "cell_type": "code",
   "execution_count": 160,
   "metadata": {},
   "outputs": [],
   "source": [
    "# Converting to sql datatype\n",
    "dfp['ProductKey'] = dfp['ProductKey'].astype(int)\n",
    "dfp['Unit Cost USD'] = dfp['Unit Cost USD'].astype('float32')\n",
    "dfp['Unit Price USD'] = dfp['Unit Price USD'].astype('float32')\n",
    "dfp['SubcategoryKey'] = dfp['SubcategoryKey'].astype(int)\n",
    "dfp['CategoryKey'] = dfp['CategoryKey'].astype(int)\n"
   ]
  },
  {
   "cell_type": "code",
   "execution_count": 161,
   "metadata": {},
   "outputs": [
    {
     "data": {
      "text/plain": [
       "Unnamed: 0          int64\n",
       "ProductKey          int32\n",
       "Product Name       object\n",
       "Brand              object\n",
       "Color              object\n",
       "Unit Cost USD     float32\n",
       "Unit Price USD    float32\n",
       "SubcategoryKey      int32\n",
       "Subcategory        object\n",
       "CategoryKey         int32\n",
       "Category           object\n",
       "dtype: object"
      ]
     },
     "execution_count": 161,
     "metadata": {},
     "output_type": "execute_result"
    }
   ],
   "source": [
    "dfp.dtypes"
   ]
  },
  {
   "cell_type": "code",
   "execution_count": 163,
   "metadata": {},
   "outputs": [
    {
     "name": "stdout",
     "output_type": "stream",
     "text": [
      "Values inserted successfully.\n"
     ]
    }
   ],
   "source": [
    "insert_query = \"\"\"\n",
    "    INSERT INTO Products (Unnamed_0,ProductKey, Product_Name, Brand, Color, Unit_Cost_USD, Unit_Price_USD, SubcategoryKey, Subcategory, CategoryKey, Category)\n",
    "    VALUES (%s, %s, %s, %s, %s, %s, %s, %s, %s, %s,%s)\"\"\"\n",
    "data_tuples = [tuple(row) for row in dfp.to_numpy()]\n",
    "\n",
    "connection = create_connection()\n",
    "cursor = connection.cursor()\n",
    "\n",
    "try:\n",
    "    cursor.executemany(insert_query, data_tuples)\n",
    "    connection.commit()\n",
    "    print(\"Values inserted successfully.\")\n",
    "except Error as e:\n",
    "    print(f\"Error: {e}\")\n",
    "finally:\n",
    "    cursor.close()\n",
    "    connection.close()"
   ]
  },
  {
   "cell_type": "code",
   "execution_count": 165,
   "metadata": {},
   "outputs": [
    {
     "name": "stdout",
     "output_type": "stream",
     "text": [
      "<class 'pandas.core.frame.DataFrame'>\n",
      "RangeIndex: 67 entries, 0 to 66\n",
      "Data columns (total 6 columns):\n",
      " #   Column         Non-Null Count  Dtype  \n",
      "---  ------         --------------  -----  \n",
      " 0   Unnamed: 0     67 non-null     int64  \n",
      " 1   StoreKey       67 non-null     int64  \n",
      " 2   Country        67 non-null     object \n",
      " 3   State          67 non-null     object \n",
      " 4   Square Meters  67 non-null     float64\n",
      " 5   Open Date      67 non-null     object \n",
      "dtypes: float64(1), int64(2), object(3)\n",
      "memory usage: 3.3+ KB\n"
     ]
    }
   ],
   "source": [
    "# Cleaned stores\n",
    "\n",
    "dfst=pd.read_csv(\"cleaned_stores.csv\")\n",
    "\n",
    "dfst.info()"
   ]
  },
  {
   "cell_type": "code",
   "execution_count": 170,
   "metadata": {},
   "outputs": [],
   "source": [
    "# Converting to sql datatypes\n",
    "\n",
    "dfst[\"StoreKey\"]=dfst[\"StoreKey\"].astype(int)\n",
    "dfst[\"Square Meters\"]=dfst[\"Square Meters\"].astype(\"float32\")\n",
    "dfst[\"Unnamed: 0\"]=dfst[\"Unnamed: 0\"].astype(\"int\")\n"
   ]
  },
  {
   "cell_type": "code",
   "execution_count": 171,
   "metadata": {},
   "outputs": [
    {
     "name": "stdout",
     "output_type": "stream",
     "text": [
      "<class 'pandas.core.frame.DataFrame'>\n",
      "RangeIndex: 67 entries, 0 to 66\n",
      "Data columns (total 6 columns):\n",
      " #   Column         Non-Null Count  Dtype  \n",
      "---  ------         --------------  -----  \n",
      " 0   Unnamed: 0     67 non-null     int32  \n",
      " 1   StoreKey       67 non-null     int32  \n",
      " 2   Country        67 non-null     object \n",
      " 3   State          67 non-null     object \n",
      " 4   Square Meters  67 non-null     float32\n",
      " 5   Open Date      67 non-null     object \n",
      "dtypes: float32(1), int32(2), object(3)\n",
      "memory usage: 2.5+ KB\n"
     ]
    }
   ],
   "source": [
    "dfst.info()"
   ]
  },
  {
   "cell_type": "code",
   "execution_count": 179,
   "metadata": {},
   "outputs": [
    {
     "name": "stdout",
     "output_type": "stream",
     "text": [
      "Values inserted successfully.\n"
     ]
    }
   ],
   "source": [
    "insert_query = \"\"\"\n",
    "    INSERT INTO stores (Unnamed,StoreKey, Country, State, Square_Meters, Open_Date)\n",
    "    VALUES (%s, %s, %s, %s, %s,%s)\"\"\"\n",
    "data_tuples = [tuple(row) for row in dfst.to_numpy()]\n",
    "\n",
    "connection = create_connection()\n",
    "cursor = connection.cursor()\n",
    "\n",
    "try:\n",
    "    cursor.executemany(insert_query, data_tuples)\n",
    "    connection.commit()\n",
    "    print(\"Values inserted successfully.\")\n",
    "except Error as e:\n",
    "    print(f\"Error: {e}\")\n",
    "finally:\n",
    "    cursor.close()\n",
    "    connection.close()"
   ]
  },
  {
   "cell_type": "code",
   "execution_count": 175,
   "metadata": {},
   "outputs": [
    {
     "name": "stdout",
     "output_type": "stream",
     "text": [
      "<class 'pandas.core.frame.DataFrame'>\n",
      "RangeIndex: 11215 entries, 0 to 11214\n",
      "Data columns (total 4 columns):\n",
      " #   Column      Non-Null Count  Dtype  \n",
      "---  ------      --------------  -----  \n",
      " 0   Unnamed: 0  11215 non-null  int64  \n",
      " 1   Date        11215 non-null  object \n",
      " 2   Currency    11215 non-null  object \n",
      " 3   Exchange    11215 non-null  float64\n",
      "dtypes: float64(1), int64(1), object(2)\n",
      "memory usage: 350.6+ KB\n"
     ]
    }
   ],
   "source": [
    "# Cleaned exchangerates\n",
    "\n",
    "dfe=pd.read_csv(\"cleaned_exchange_rates.csv\")\n",
    "\n",
    "dfe.info()"
   ]
  },
  {
   "cell_type": "code",
   "execution_count": 186,
   "metadata": {},
   "outputs": [
    {
     "name": "stdout",
     "output_type": "stream",
     "text": [
      "<class 'pandas.core.frame.DataFrame'>\n",
      "RangeIndex: 11215 entries, 0 to 11214\n",
      "Data columns (total 4 columns):\n",
      " #   Column      Non-Null Count  Dtype         \n",
      "---  ------      --------------  -----         \n",
      " 0   Unnamed: 0  11215 non-null  int32         \n",
      " 1   Date        11215 non-null  datetime64[ns]\n",
      " 2   Currency    11215 non-null  object        \n",
      " 3   Exchange    11215 non-null  float32       \n",
      "dtypes: datetime64[ns](1), float32(1), int32(1), object(1)\n",
      "memory usage: 263.0+ KB\n"
     ]
    }
   ],
   "source": [
    "dfe[\"Exchange\"]=dfe[\"Exchange\"].astype('float32')\n",
    "dfe[\"Unnamed: 0\"]=dfe[\"Unnamed: 0\"].astype(int)\n",
    "dfe['Date'] = pd.to_datetime(dfe['Date'], errors='coerce')\n",
    "dfe.info()"
   ]
  },
  {
   "cell_type": "code",
   "execution_count": 189,
   "metadata": {},
   "outputs": [
    {
     "name": "stdout",
     "output_type": "stream",
     "text": [
      "Values inserted successfully.\n"
     ]
    }
   ],
   "source": [
    "insert_query = \"\"\"\n",
    "    INSERT INTO ExchangeRates (Unnamed, Date, Currency, Exchange)\n",
    "    VALUES (%s, %s, %s,%s)\"\"\"\n",
    "data_tuples = [tuple(row) for row in dfe.to_numpy()]\n",
    "\n",
    "connection = create_connection()\n",
    "cursor = connection.cursor()\n",
    "\n",
    "try:\n",
    "    cursor.executemany(insert_query, data_tuples)\n",
    "    connection.commit()\n",
    "    print(\"Values inserted successfully.\")\n",
    "except Error as e:\n",
    "    print(f\"Error: {e}\")\n",
    "finally:\n",
    "    cursor.close()\n",
    "    connection.close()"
   ]
  }
 ],
 "metadata": {
  "kernelspec": {
   "display_name": "Python 3",
   "language": "python",
   "name": "python3"
  },
  "language_info": {
   "codemirror_mode": {
    "name": "ipython",
    "version": 3
   },
   "file_extension": ".py",
   "mimetype": "text/x-python",
   "name": "python",
   "nbconvert_exporter": "python",
   "pygments_lexer": "ipython3",
   "version": "3.12.3"
  }
 },
 "nbformat": 4,
 "nbformat_minor": 2
}
